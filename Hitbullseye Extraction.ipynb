{
 "cells": [
  {
   "cell_type": "code",
   "execution_count": 1,
   "id": "39c85134",
   "metadata": {},
   "outputs": [],
   "source": [
    "from selenium import webdriver\n",
    "from selenium.webdriver.chrome.options import Options\n",
    "from selenium.webdriver.common.by import By\n",
    "import pandas as pd\n",
    "import requests\n",
    "import time\n",
    "from bs4 import BeautifulSoup"
   ]
  },
  {
   "cell_type": "code",
   "execution_count": 2,
   "id": "4de05a7f",
   "metadata": {},
   "outputs": [],
   "source": [
    "### Answer Extraction"
   ]
  },
  {
   "cell_type": "code",
   "execution_count": 10,
   "id": "dd3d4b35",
   "metadata": {},
   "outputs": [],
   "source": [
    "browser=webdriver.Edge()\n",
    "browser.get(\"https://hitbullseye.com/\")"
   ]
  },
  {
   "cell_type": "code",
   "execution_count": 68,
   "id": "5ee47fa3",
   "metadata": {},
   "outputs": [],
   "source": [
    "## No of questions in test\n",
    "qno=100\n",
    "\n",
    "## Open test before proceding\n",
    "\n",
    "window_handles = browser.window_handles\n",
    "browser.switch_to.window(window_handles[1])\n",
    "soup = BeautifulSoup(browser.page_source, \"html.parser\")"
   ]
  },
  {
   "cell_type": "code",
   "execution_count": 69,
   "id": "6a41f992",
   "metadata": {},
   "outputs": [
    {
     "data": {
      "text/plain": [
       "'\\n\\n\\n\\n\\n\\nQuestion No: 1\\n\\n\\n\\nDIRECTIONS for the question: Solve the following question and mark the best possible option.\\n\\n\\n\\t\\t\\tThree casks of equal capacities contain three liquids A, B & C in the ratio 1 : 2 : 3, 3 : 4 : 5 & 5 : 6 : 7 respectively. The mixtures from these casks are taken in the ratio 1 : 2 : 3 and poured into a 4th cask with the same capacity as that of the three casks and the cask is completely filled. What is the ratio of the liquids A, B and C in the resulting mixture?\\n \\n\\n\\n\\n\\n\\t\\t\\t25 : 36 : 47\\n\\n\\n\\n\\t\\t\\t16 : 21 : 26\\n\\n\\n\\n\\t\\t\\t3 : 4 : 5\\n\\n\\n\\n\\t\\t\\t1 : 2 : 3\\n\\n\\n\\n\\n\\nExplanation\\n\\n\\nSolution: (1 + 2 + 3) = 6, (3 + 4 + 5) = 12 & (5 + 6 + 7) = 18.\\n\\n\\t\\t\\t\\tCommon multiple of (6, 12, 18) = 36.\\n\\n\\t\\t\\t\\tSo let us fix the capacities of the four casks as 36 litres each.\\n\\n\\t\\t\\t\\t\\xa0\\n\\n\\n\\n\\n\\n\\t\\t\\t\\t\\t\\t\\t\\t\\xa0\\n\\n\\n\\n\\t\\t\\t\\t\\t\\t\\t\\tLiquid A\\n\\n\\n\\n\\t\\t\\t\\t\\t\\t\\t\\tLiquid B\\n\\n\\n\\n\\t\\t\\t\\t\\t\\t\\t\\tLiquid C\\n\\n\\n\\n\\n\\n\\t\\t\\t\\t\\t\\t\\t\\tCask 1(36 litres)\\n\\n\\n\\n\\t\\t\\t\\t\\t\\t\\t\\t6\\n\\n\\n\\n\\t\\t\\t\\t\\t\\t\\t\\t12\\n\\n\\n\\n\\t\\t\\t\\t\\t\\t\\t\\t18\\n\\n\\n\\n\\n\\n\\t\\t\\t\\t\\t\\t\\t\\tCask 2 (36 litres)\\n\\n\\n\\n\\t\\t\\t\\t\\t\\t\\t\\t9\\n\\n\\n\\n\\t\\t\\t\\t\\t\\t\\t\\t12\\n\\n\\n\\n\\t\\t\\t\\t\\t\\t\\t\\t15\\n\\n\\n\\n\\n\\n\\t\\t\\t\\t\\t\\t\\t\\tCask 3 (36 litres)\\n\\n\\n\\n\\t\\t\\t\\t\\t\\t\\t\\t10\\n\\n\\n\\n\\t\\t\\t\\t\\t\\t\\t\\t12\\n\\n\\n\\n\\t\\t\\t\\t\\t\\t\\t\\t14\\n\\n\\n\\n\\n\\n\\t\\t\\t\\t\\xa0\\n\\n\\t\\t\\t\\tSince the mixtures are taken in the ratio 1:2:3, 6litres, 12 litres and 18 litres mixture are drawn from the three casks respectively.\\n\\n\\t\\t\\t\\t\\xa0\\n\\n\\n\\n\\n\\n\\t\\t\\t\\t\\t\\t\\t\\t\\xa0\\n\\n\\n\\n\\t\\t\\t\\t\\t\\t\\t\\tLiquid A\\n\\n\\n\\n\\t\\t\\t\\t\\t\\t\\t\\tLiquid B\\n\\n\\n\\n\\t\\t\\t\\t\\t\\t\\t\\tLiquid C\\n\\n\\n\\n\\n\\n\\t\\t\\t\\t\\t\\t\\t\\tCask 1(6 litres)\\n\\n\\n\\n\\t\\t\\t\\t\\t\\t\\t\\t1\\n\\n\\n\\n\\t\\t\\t\\t\\t\\t\\t\\t2\\n\\n\\n\\n\\t\\t\\t\\t\\t\\t\\t\\t3\\n\\n\\n\\n\\n\\n\\t\\t\\t\\t\\t\\t\\t\\tCask 2 (12 litres)\\n\\n\\n\\n\\t\\t\\t\\t\\t\\t\\t\\t3\\n\\n\\n\\n\\t\\t\\t\\t\\t\\t\\t\\t4\\n\\n\\n\\n\\t\\t\\t\\t\\t\\t\\t\\t5\\n\\n\\n\\n\\n\\n\\t\\t\\t\\t\\t\\t\\t\\tCask 3 (18 litres)\\n\\n\\n\\n\\t\\t\\t\\t\\t\\t\\t\\t5\\n\\n\\n\\n\\t\\t\\t\\t\\t\\t\\t\\t6\\n\\n\\n\\n\\t\\t\\t\\t\\t\\t\\t\\t7\\n\\n\\n\\n\\n\\n\\t\\t\\t\\t\\t\\t\\t\\tCask 4 (36 litres)\\n\\n\\n\\n\\t\\t\\t\\t\\t\\t\\t\\t9\\n\\n\\n\\n\\t\\t\\t\\t\\t\\t\\t\\t12\\n\\n\\n\\n\\t\\t\\t\\t\\t\\t\\t\\t15\\n\\n\\n\\n\\n\\n\\t\\t\\t\\t\\xa0\\n\\n\\t\\t\\t\\tHence the ratio of the liquids in the resulting mixture is 9 : 12 : 15 = 3 : 4 : 5\\n\\t\\t\\tHence option 3\\n\\n\\t\\t\\t\\xa0\\n\\n\\n\\n Correct answer is: C \\n\\n\\n\\n\\n\\n\\n'"
      ]
     },
     "execution_count": 69,
     "metadata": {},
     "output_type": "execute_result"
    }
   ],
   "source": [
    "ele = soup.find(id=\"qno_1\")\n",
    "ele.text"
   ]
  },
  {
   "cell_type": "code",
   "execution_count": 70,
   "id": "f143ab7b",
   "metadata": {},
   "outputs": [
    {
     "name": "stdout",
     "output_type": "stream",
     "text": [
      "100\n",
      "[['3 : 4 : 5', '1 : 2 : 3', '\\xa0\\n\\n\\n\\n\\t\\t\\t\\t\\t\\t\\t\\tLiquid A\\n\\n\\n\\n\\t\\t\\t\\t\\t\\t\\t\\tLiquid B\\n\\n\\n\\n\\t\\t\\t\\t\\t\\t\\t\\tLiquid C\\n\\n\\n\\n\\n\\n\\t\\t\\t\\t\\t\\t\\t\\tCask 1(36 litres)\\n\\n\\n\\n\\t\\t\\t\\t\\t\\t\\t\\t6\\n\\n\\n\\n\\t\\t\\t\\t\\t\\t\\t\\t12\\n\\n\\n\\n\\t\\t\\t\\t\\t\\t\\t\\t18\\n\\n\\n\\n\\n\\n\\t\\t\\t\\t\\t\\t\\t\\tCask 2 (36 litres)\\n\\n\\n\\n\\t\\t\\t\\t\\t\\t\\t\\t9\\n\\n\\n\\n\\t\\t\\t\\t\\t\\t\\t\\t12\\n\\n\\n\\n\\t\\t\\t\\t\\t\\t\\t\\t15\\n\\n\\n\\n\\n\\n\\t\\t\\t\\t\\t\\t\\t\\tCask 3 (36 litres)\\n\\n\\n\\n\\t\\t\\t\\t\\t\\t\\t\\t10\\n\\n\\n\\n\\t\\t\\t\\t\\t\\t\\t\\t12\\n\\n\\n\\n\\t\\t\\t\\t\\t\\t\\t\\t14', '\\xa0\\n\\n\\n\\n\\t\\t\\t\\t\\t\\t\\t\\tLiquid A\\n\\n\\n\\n\\t\\t\\t\\t\\t\\t\\t\\tLiquid B\\n\\n\\n\\n\\t\\t\\t\\t\\t\\t\\t\\tLiquid C\\n\\n\\n\\n\\n\\n\\t\\t\\t\\t\\t\\t\\t\\tCask 1(6 litres)\\n\\n\\n\\n\\t\\t\\t\\t\\t\\t\\t\\t1\\n\\n\\n\\n\\t\\t\\t\\t\\t\\t\\t\\t2\\n\\n\\n\\n\\t\\t\\t\\t\\t\\t\\t\\t3\\n\\n\\n\\n\\n\\n\\t\\t\\t\\t\\t\\t\\t\\tCask 2 (12 litres)\\n\\n\\n\\n\\t\\t\\t\\t\\t\\t\\t\\t3\\n\\n\\n\\n\\t\\t\\t\\t\\t\\t\\t\\t4\\n\\n\\n\\n\\t\\t\\t\\t\\t\\t\\t\\t5\\n\\n\\n\\n\\n\\n\\t\\t\\t\\t\\t\\t\\t\\tCask 3 (18 litres)\\n\\n\\n\\n\\t\\t\\t\\t\\t\\t\\t\\t5\\n\\n\\n\\n\\t\\t\\t\\t\\t\\t\\t\\t6\\n\\n\\n\\n\\t\\t\\t\\t\\t\\t\\t\\t7\\n\\n\\n\\n\\n\\n\\t\\t\\t\\t\\t\\t\\t\\tCask 4 (36 litres)\\n\\n\\n\\n\\t\\t\\t\\t\\t\\t\\t\\t9\\n\\n\\n\\n\\t\\t\\t\\t\\t\\t\\t\\t12\\n\\n\\n\\n\\t\\t\\t\\t\\t\\t\\t\\t15', 3], ['12 hours', '10 hours', '15 hours', '20 hours', 4], ['', '', '', 'None of these', 4], ['4.5 days', '5.3 days', '2.5 days', '6.3 days', 4], ['70', '175', '50', '91', 1]]\n"
     ]
    }
   ],
   "source": [
    "id_lst=['qno_'+str(i) for i in range(1,qno+1)]\n",
    "ans_key=[]\n",
    "for i in id_lst:\n",
    "    ele = soup.find(id=i).find_all(\"table\")\n",
    "    if ele[0].text[-8]=='A':\n",
    "        ele2=[ele[-4].text,ele[-3].text,ele[-2].text,ele[-1].text,1] ## [a,b,c,d,ans]\n",
    "    elif ele[0].text[-8]=='B':\n",
    "        ele2=[ele[-4].text[3:-1],ele[-3].text,ele[-2].text,ele[-1].text,2] ## [a,b,c,d,ans]\n",
    "    elif ele[0].text[-8]=='C':\n",
    "        ele2=[ele[-4].text,ele[-3].text,ele[-2].text,ele[-1].text,3] ## [a,b,c,d,ans]\n",
    "    elif ele[0].text[-8]=='D':\n",
    "        ele2=[ele[-4].text,ele[-3].text,ele[-2].text,ele[-1].text,4] ## [a,b,c,d,ans]\n",
    "    ans_key.append(ele2)\n",
    "\n",
    "\n",
    "for i in range(len(ans_key)):\n",
    "    for j in range(4):\n",
    "        while len(ans_key[i][j])>0 and (ans_key[i][j][0]=='\\t' or ans_key[i][j][0]=='\\n'):\n",
    "            ans_key[i][j]=ans_key[i][j][1:]\n",
    "        while len(ans_key[i][j])>0 and (ans_key[i][j][-1]=='\\t' or ans_key[i][j][-1]=='\\n'):\n",
    "            ans_key[i][j]=ans_key[i][j][:-1]\n",
    "            \n",
    "print(len(ans_key))\n",
    "print(ans_key[:5])"
   ]
  },
  {
   "cell_type": "code",
   "execution_count": 71,
   "id": "ebe017f2",
   "metadata": {},
   "outputs": [],
   "source": [
    "window_handles = browser.window_handles\n",
    "browser.switch_to.window(window_handles[0])"
   ]
  },
  {
   "cell_type": "code",
   "execution_count": 72,
   "id": "c1f2e5ef",
   "metadata": {
    "scrolled": true
   },
   "outputs": [],
   "source": [
    "# p1=ans_key.copy() #\n",
    "# p2=ans_key.copy() #\n",
    "# p3=ans_key.copy() #\n",
    "# p4=ans_key.copy() #\n",
    "# p5=ans_key.copy() #\n",
    "\n",
    "# a1=ans_key.copy() #1\n",
    "# a2=ans_key.copy() #1\n",
    "# a3=ans_key.copy() #1\n",
    "# a4=ans_key.copy() #1\n",
    "a5=ans_key.copy() #1"
   ]
  },
  {
   "cell_type": "code",
   "execution_count": 52,
   "id": "5b3a11b6",
   "metadata": {},
   "outputs": [],
   "source": [
    "# p1[:2],p2[:2],p3[:2],p4[:2],p5[:2]\n",
    "# a1[:2],a2[:2],a3[:2],a4[:2],a5[:2]"
   ]
  },
  {
   "cell_type": "code",
   "execution_count": null,
   "id": "82e93922",
   "metadata": {},
   "outputs": [],
   "source": []
  },
  {
   "cell_type": "code",
   "execution_count": 209,
   "id": "0111e434",
   "metadata": {},
   "outputs": [],
   "source": [
    "### Answering answer\n",
    "browser=webdriver.Edge()\n",
    "browser.get(\"https://hitbullseye.com/\")"
   ]
  },
  {
   "cell_type": "code",
   "execution_count": null,
   "id": "5bc4c38d",
   "metadata": {},
   "outputs": [],
   "source": []
  },
  {
   "cell_type": "code",
   "execution_count": 252,
   "id": "6894bcd0",
   "metadata": {},
   "outputs": [],
   "source": [
    "## Login to new account and open test\n",
    "\n",
    "qno=100\n",
    "ans_key=a5"
   ]
  },
  {
   "cell_type": "code",
   "execution_count": 253,
   "id": "c0af80d0",
   "metadata": {},
   "outputs": [
    {
     "data": {
      "text/plain": [
       "'DIRECTIONS for the question : Solve the following question and mark the best possible option.\\n\\n\\n\\n\\n\\n0\\n\\n\\n\\n\\n\\n\\n\\n\\n\\n\\n\\n\\n\\n\\n\\n\\n\\n1\\n\\n\\n\\n\\n\\n\\n\\n\\n2\\n\\n\\n'"
      ]
     },
     "execution_count": 253,
     "metadata": {},
     "output_type": "execute_result"
    }
   ],
   "source": [
    "soup = BeautifulSoup(browser.page_source, \"html.parser\")\n",
    "ele = soup.find(id=\"qno_1\")\n",
    "ele.text"
   ]
  },
  {
   "cell_type": "code",
   "execution_count": 254,
   "id": "b05959d5",
   "metadata": {},
   "outputs": [
    {
     "name": "stdout",
     "output_type": "stream",
     "text": [
      "[['0', '', '1', '2'], ['7.5 m', '5 m', '10 m', '12 m'], ['12 hours', '10 hours', '15 hours', '20 hours'], ['Rs 1110', 'Rs 870', 'Rs 960', 'Rs 990'], ['18', '16', '15', '14']]\n"
     ]
    },
    {
     "data": {
      "text/plain": [
       "100"
      ]
     },
     "execution_count": 254,
     "metadata": {},
     "output_type": "execute_result"
    }
   ],
   "source": [
    "id_lst=['qno_'+str(i) for i in range(1,qno+1)]\n",
    "opt_key=[]\n",
    "for i in id_lst:\n",
    "    ele = soup.find(id=i).find_all(\"table\")\n",
    "    ele2=[ele[-4].text[6:-3],ele[-3].text[6:-3],ele[-2].text[6:-3],ele[-1].text[6:-3]] ## [a,b,c,d]\n",
    "    opt_key.append(ele2)\n",
    "    \n",
    "for i in range(len(opt_key)):\n",
    "    for j in range(4):\n",
    "        while len(opt_key[i][j])>0 and (opt_key[i][j][0]=='\\t' or opt_key[i][j][0]=='\\n'):\n",
    "            opt_key[i][j]=opt_key[i][j][1:]\n",
    "        while len(opt_key[i][j])>0 and (opt_key[i][j][-1]=='\\t' or opt_key[i][j][-1]=='\\n'):\n",
    "            opt_key[i][j]=opt_key[i][j][:-1]\n",
    "    \n",
    "print(opt_key[:5])\n",
    "len(opt_key)"
   ]
  },
  {
   "cell_type": "code",
   "execution_count": 255,
   "id": "2f18185f",
   "metadata": {
    "scrolled": false
   },
   "outputs": [
    {
     "name": "stdout",
     "output_type": "stream",
     "text": [
      "22 ['387', '423', '417', '437']\n",
      "39 ['25 : 36 : 47', '16 : 21 : 26', '3 : 4 : 5', '1 : 2 : 3']\n",
      "42 ['ig ad no', 'ig py ya', 're ad be', 'ad re ig']\n",
      "55 ['Grandfather', 'Uncle', 'Grandson', 'Brother\\xa0']\n",
      "63 ['Only I and II.', 'Only III', 'Only IV.', 'None of the above.\\xa0']\n",
      "66 ['Chic', 'Drab', 'Shiny', 'Stylish']\n"
     ]
    }
   ],
   "source": [
    "answers=[]\n",
    "for i in range(len(opt_key)):\n",
    "#     apnd=2\n",
    "    apnd=-1\n",
    "    for j in range(len(ans_key)):\n",
    "#         if opt_key[i][0]!='' and opt_key[i][1]!='' and opt_key[i][2]!='' and opt_key[i][3]!='' and opt_key[i][0] in ans_key[j][0] and opt_key[i][1] in ans_key[j][1] and opt_key[i][2] in ans_key[j][2] and opt_key[i][3] in ans_key[j][3]:\n",
    "        if opt_key[i][0] in ans_key[j][0] and opt_key[i][1] in ans_key[j][1] and opt_key[i][2] in ans_key[j][2] and opt_key[i][3] in ans_key[j][3]:\n",
    "            apnd=ans_key[j][-1]\n",
    "            break\n",
    "    if apnd==-1:\n",
    "        print(i+1,opt_key[i])\n",
    "        apnd=2\n",
    "    answers.append(apnd)\n",
    "# print(answers[:5])\n",
    "# len(answers)"
   ]
  },
  {
   "cell_type": "code",
   "execution_count": 256,
   "id": "749dd26a",
   "metadata": {
    "scrolled": true
   },
   "outputs": [],
   "source": [
    "# for i in range(len(ans_key)):\n",
    "#     print(i+1,ans_key[i])"
   ]
  },
  {
   "cell_type": "code",
   "execution_count": 257,
   "id": "b0bbbea2",
   "metadata": {
    "scrolled": true
   },
   "outputs": [],
   "source": [
    "names=['radio_'+str(i) for i in range(1,len(answers)+1)]\n",
    "for i in range(len(answers)):\n",
    "    rbtn=browser.find_elements(By.NAME, names[i])\n",
    "    if answers[i]-1>=0:\n",
    "        rbtn[answers[i]-1].click()\n",
    "    nxt = browser.find_element(By.CLASS_NAME, 'saveNextButton')\n",
    "#     time.sleep(0.05)\n",
    "    nxt.click()"
   ]
  },
  {
   "cell_type": "code",
   "execution_count": null,
   "id": "ecf631a4",
   "metadata": {},
   "outputs": [],
   "source": []
  },
  {
   "cell_type": "code",
   "execution_count": null,
   "id": "9e5d2950",
   "metadata": {},
   "outputs": [],
   "source": []
  }
 ],
 "metadata": {
  "kernelspec": {
   "display_name": "Python 3 (ipykernel)",
   "language": "python",
   "name": "python3"
  },
  "language_info": {
   "codemirror_mode": {
    "name": "ipython",
    "version": 3
   },
   "file_extension": ".py",
   "mimetype": "text/x-python",
   "name": "python",
   "nbconvert_exporter": "python",
   "pygments_lexer": "ipython3",
   "version": "3.10.9"
  }
 },
 "nbformat": 4,
 "nbformat_minor": 5
}
